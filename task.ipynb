{
  "nbformat": 4,
  "nbformat_minor": 0,
  "metadata": {
    "colab": {
      "name": "Untitled1.ipynb",
      "version": "0.3.2",
      "provenance": [],
      "collapsed_sections": []
    },
    "kernelspec": {
      "name": "python3",
      "display_name": "Python 3"
    }
  },
  "cells": [
    {
      "cell_type": "code",
      "metadata": {
        "id": "yUJFHY-2pRU7",
        "colab_type": "code",
        "colab": {}
      },
      "source": [
        "import numpy as np\n",
        "import pandas as pd\n",
        "import seaborn as sns\n",
        "import matplotlib.pyplot as plt"
      ],
      "execution_count": 0,
      "outputs": []
    },
    {
      "cell_type": "code",
      "metadata": {
        "id": "Cx-9C11cpXeR",
        "colab_type": "code",
        "colab": {}
      },
      "source": [
        "ad_data = pd.read_csv('test_data.csv', delimiter = ',')"
      ],
      "execution_count": 0,
      "outputs": []
    },
    {
      "cell_type": "code",
      "metadata": {
        "id": "4E18zlEFu1jh",
        "colab_type": "code",
        "colab": {}
      },
      "source": [
        "ad_dates = ad_data.groupby('date').count()"
      ],
      "execution_count": 0,
      "outputs": []
    },
    {
      "cell_type": "code",
      "metadata": {
        "id": "l8Pd9ho-vPJm",
        "colab_type": "code",
        "colab": {
          "base_uri": "https://localhost:8080/",
          "height": 576
        },
        "outputId": "15bc29cb-c01e-4f5e-c75a-2add9ca9b1b4"
      },
      "source": [
        "ad_dates"
      ],
      "execution_count": 18,
      "outputs": [
        {
          "output_type": "execute_result",
          "data": {
            "text/html": [
              "<div>\n",
              "<style scoped>\n",
              "    .dataframe tbody tr th:only-of-type {\n",
              "        vertical-align: middle;\n",
              "    }\n",
              "\n",
              "    .dataframe tbody tr th {\n",
              "        vertical-align: top;\n",
              "    }\n",
              "\n",
              "    .dataframe thead th {\n",
              "        text-align: right;\n",
              "    }\n",
              "</style>\n",
              "<table border=\"1\" class=\"dataframe\">\n",
              "  <thead>\n",
              "    <tr style=\"text-align: right;\">\n",
              "      <th></th>\n",
              "      <th>time</th>\n",
              "      <th>event</th>\n",
              "      <th>ad_cost_type</th>\n",
              "      <th>has_video</th>\n",
              "      <th>agency_union_id</th>\n",
              "      <th>client_union_id</th>\n",
              "      <th>campaign_union_id</th>\n",
              "      <th>ad_id</th>\n",
              "      <th>platform</th>\n",
              "    </tr>\n",
              "    <tr>\n",
              "      <th>date</th>\n",
              "      <th></th>\n",
              "      <th></th>\n",
              "      <th></th>\n",
              "      <th></th>\n",
              "      <th></th>\n",
              "      <th></th>\n",
              "      <th></th>\n",
              "      <th></th>\n",
              "      <th></th>\n",
              "    </tr>\n",
              "  </thead>\n",
              "  <tbody>\n",
              "    <tr>\n",
              "      <th>2019-04-01</th>\n",
              "      <td>5172</td>\n",
              "      <td>5172</td>\n",
              "      <td>5172</td>\n",
              "      <td>5172</td>\n",
              "      <td>5172</td>\n",
              "      <td>5172</td>\n",
              "      <td>5172</td>\n",
              "      <td>5172</td>\n",
              "      <td>5172</td>\n",
              "    </tr>\n",
              "    <tr>\n",
              "      <th>2019-04-02</th>\n",
              "      <td>5269</td>\n",
              "      <td>5269</td>\n",
              "      <td>5269</td>\n",
              "      <td>5269</td>\n",
              "      <td>5269</td>\n",
              "      <td>5269</td>\n",
              "      <td>5269</td>\n",
              "      <td>5269</td>\n",
              "      <td>5269</td>\n",
              "    </tr>\n",
              "    <tr>\n",
              "      <th>2019-04-03</th>\n",
              "      <td>5357</td>\n",
              "      <td>5357</td>\n",
              "      <td>5357</td>\n",
              "      <td>5357</td>\n",
              "      <td>5357</td>\n",
              "      <td>5357</td>\n",
              "      <td>5357</td>\n",
              "      <td>5357</td>\n",
              "      <td>5357</td>\n",
              "    </tr>\n",
              "    <tr>\n",
              "      <th>2019-04-04</th>\n",
              "      <td>5108</td>\n",
              "      <td>5108</td>\n",
              "      <td>5108</td>\n",
              "      <td>5108</td>\n",
              "      <td>5108</td>\n",
              "      <td>5108</td>\n",
              "      <td>5108</td>\n",
              "      <td>5108</td>\n",
              "      <td>5108</td>\n",
              "    </tr>\n",
              "    <tr>\n",
              "      <th>2019-04-05</th>\n",
              "      <td>5305</td>\n",
              "      <td>5305</td>\n",
              "      <td>5305</td>\n",
              "      <td>5305</td>\n",
              "      <td>5305</td>\n",
              "      <td>5305</td>\n",
              "      <td>5305</td>\n",
              "      <td>5305</td>\n",
              "      <td>5305</td>\n",
              "    </tr>\n",
              "    <tr>\n",
              "      <th>2019-04-06</th>\n",
              "      <td>3955</td>\n",
              "      <td>3955</td>\n",
              "      <td>3955</td>\n",
              "      <td>3955</td>\n",
              "      <td>3955</td>\n",
              "      <td>3955</td>\n",
              "      <td>3955</td>\n",
              "      <td>3955</td>\n",
              "      <td>3955</td>\n",
              "    </tr>\n",
              "    <tr>\n",
              "      <th>2019-04-07</th>\n",
              "      <td>4091</td>\n",
              "      <td>4091</td>\n",
              "      <td>4091</td>\n",
              "      <td>4091</td>\n",
              "      <td>4091</td>\n",
              "      <td>4091</td>\n",
              "      <td>4091</td>\n",
              "      <td>4091</td>\n",
              "      <td>4091</td>\n",
              "    </tr>\n",
              "    <tr>\n",
              "      <th>2019-04-08</th>\n",
              "      <td>8902</td>\n",
              "      <td>8902</td>\n",
              "      <td>8902</td>\n",
              "      <td>8902</td>\n",
              "      <td>8902</td>\n",
              "      <td>8902</td>\n",
              "      <td>8902</td>\n",
              "      <td>8902</td>\n",
              "      <td>8902</td>\n",
              "    </tr>\n",
              "    <tr>\n",
              "      <th>2019-04-09</th>\n",
              "      <td>7963</td>\n",
              "      <td>7963</td>\n",
              "      <td>7963</td>\n",
              "      <td>7963</td>\n",
              "      <td>7963</td>\n",
              "      <td>7963</td>\n",
              "      <td>7963</td>\n",
              "      <td>7963</td>\n",
              "      <td>7963</td>\n",
              "    </tr>\n",
              "    <tr>\n",
              "      <th>2019-04-10</th>\n",
              "      <td>7098</td>\n",
              "      <td>7098</td>\n",
              "      <td>7098</td>\n",
              "      <td>7098</td>\n",
              "      <td>7098</td>\n",
              "      <td>7098</td>\n",
              "      <td>7098</td>\n",
              "      <td>7098</td>\n",
              "      <td>7098</td>\n",
              "    </tr>\n",
              "    <tr>\n",
              "      <th>2019-04-11</th>\n",
              "      <td>18259</td>\n",
              "      <td>18259</td>\n",
              "      <td>18259</td>\n",
              "      <td>18259</td>\n",
              "      <td>18259</td>\n",
              "      <td>18259</td>\n",
              "      <td>18259</td>\n",
              "      <td>18259</td>\n",
              "      <td>18259</td>\n",
              "    </tr>\n",
              "    <tr>\n",
              "      <th>2019-04-12</th>\n",
              "      <td>10740</td>\n",
              "      <td>10740</td>\n",
              "      <td>10740</td>\n",
              "      <td>10740</td>\n",
              "      <td>10740</td>\n",
              "      <td>10740</td>\n",
              "      <td>10740</td>\n",
              "      <td>10740</td>\n",
              "      <td>10740</td>\n",
              "    </tr>\n",
              "    <tr>\n",
              "      <th>2019-04-13</th>\n",
              "      <td>10999</td>\n",
              "      <td>10999</td>\n",
              "      <td>10999</td>\n",
              "      <td>10999</td>\n",
              "      <td>10999</td>\n",
              "      <td>10999</td>\n",
              "      <td>10999</td>\n",
              "      <td>10999</td>\n",
              "      <td>10999</td>\n",
              "    </tr>\n",
              "    <tr>\n",
              "      <th>2019-04-14</th>\n",
              "      <td>8656</td>\n",
              "      <td>8656</td>\n",
              "      <td>8656</td>\n",
              "      <td>8656</td>\n",
              "      <td>8656</td>\n",
              "      <td>8656</td>\n",
              "      <td>8656</td>\n",
              "      <td>8656</td>\n",
              "      <td>8656</td>\n",
              "    </tr>\n",
              "    <tr>\n",
              "      <th>2019-04-15</th>\n",
              "      <td>7457</td>\n",
              "      <td>7457</td>\n",
              "      <td>7457</td>\n",
              "      <td>7457</td>\n",
              "      <td>7457</td>\n",
              "      <td>7457</td>\n",
              "      <td>7457</td>\n",
              "      <td>7457</td>\n",
              "      <td>7457</td>\n",
              "    </tr>\n",
              "    <tr>\n",
              "      <th>2019-04-16</th>\n",
              "      <td>7766</td>\n",
              "      <td>7766</td>\n",
              "      <td>7766</td>\n",
              "      <td>7766</td>\n",
              "      <td>7766</td>\n",
              "      <td>7766</td>\n",
              "      <td>7766</td>\n",
              "      <td>7766</td>\n",
              "      <td>7766</td>\n",
              "    </tr>\n",
              "  </tbody>\n",
              "</table>\n",
              "</div>"
            ],
            "text/plain": [
              "             time  event  ad_cost_type  ...  campaign_union_id  ad_id  platform\n",
              "date                                    ...                                    \n",
              "2019-04-01   5172   5172          5172  ...               5172   5172      5172\n",
              "2019-04-02   5269   5269          5269  ...               5269   5269      5269\n",
              "2019-04-03   5357   5357          5357  ...               5357   5357      5357\n",
              "2019-04-04   5108   5108          5108  ...               5108   5108      5108\n",
              "2019-04-05   5305   5305          5305  ...               5305   5305      5305\n",
              "2019-04-06   3955   3955          3955  ...               3955   3955      3955\n",
              "2019-04-07   4091   4091          4091  ...               4091   4091      4091\n",
              "2019-04-08   8902   8902          8902  ...               8902   8902      8902\n",
              "2019-04-09   7963   7963          7963  ...               7963   7963      7963\n",
              "2019-04-10   7098   7098          7098  ...               7098   7098      7098\n",
              "2019-04-11  18259  18259         18259  ...              18259  18259     18259\n",
              "2019-04-12  10740  10740         10740  ...              10740  10740     10740\n",
              "2019-04-13  10999  10999         10999  ...              10999  10999     10999\n",
              "2019-04-14   8656   8656          8656  ...               8656   8656      8656\n",
              "2019-04-15   7457   7457          7457  ...               7457   7457      7457\n",
              "2019-04-16   7766   7766          7766  ...               7766   7766      7766\n",
              "\n",
              "[16 rows x 9 columns]"
            ]
          },
          "metadata": {
            "tags": []
          },
          "execution_count": 18
        }
      ]
    },
    {
      "cell_type": "code",
      "metadata": {
        "id": "VhqoXPD5pk2y",
        "colab_type": "code",
        "colab": {
          "base_uri": "https://localhost:8080/",
          "height": 606
        },
        "outputId": "0e1d7fe0-70e2-4ef6-dd35-aaa2debc3242"
      },
      "source": [
        "sns.set(context='notebook', style='darkgrid', palette='deep', font='sans-serif', font_scale=1, color_codes=True, rc=None)\n",
        "plt.figure(figsize=(20,8))\n",
        "plt.xticks(rotation=90)\n",
        "fig = sns.lineplot(x=ad_dates.index, y='event', marker='o', data=ad_dates)\n",
        "fig.set(xlabel='', ylabel='Number of ad events', title=\"Distribution of ad events\")"
      ],
      "execution_count": 46,
      "outputs": [
        {
          "output_type": "execute_result",
          "data": {
            "text/plain": [
              "[Text(0, 0.5, 'Number of ad events'),\n",
              " Text(0.5, 0, ''),\n",
              " Text(0.5, 1.0, 'Distribution of ad events')]"
            ]
          },
          "metadata": {
            "tags": []
          },
          "execution_count": 46
        },
        {
          "output_type": "display_data",
          "data": {
            "image/png": "[encoded data removed]",
            "text/plain": [
              "<Figure size 1440x576 with 1 Axes>"
            ]
          },
          "metadata": {
            "tags": []
          }
        }
      ]
    },
    {
      "cell_type": "code",
      "metadata": {
        "id": "rggJoK6tu0Ks",
        "colab_type": "code",
        "colab": {}
      },
      "source": [
        ""
      ],
      "execution_count": 0,
      "outputs": []
    }
  ]
}